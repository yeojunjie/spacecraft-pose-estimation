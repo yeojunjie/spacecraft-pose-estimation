{
 "cells": [
  {
   "cell_type": "markdown",
   "metadata": {},
   "source": [
    "# Neural Network Enhancement of ORB/RANSAC Outputs"
   ]
  },
  {
   "cell_type": "markdown",
   "metadata": {},
   "source": [
    "## Obtaining Training Labels\n",
    "\n",
    "### Conversion of Net Transformation to Incremental Transformations"
   ]
  },
  {
   "cell_type": "code",
   "execution_count": 9,
   "metadata": {},
   "outputs": [],
   "source": [
    "import pandas as pd\n",
    "import numpy as np\n",
    "from utils import *\n",
    "import matplotlib.pyplot as plt\n",
    "\n",
    "# Read the data, which contains net transformations.\n",
    "PATH_TO_INPUT_FILE = \"train_labels_one_chain_only.csv\"\n",
    "PATH_TO_OUTPUT_FILE = \"train_labels_incremental_transformations.csv\"\n",
    "\n",
    "df = pd.read_csv(PATH_TO_INPUT_FILE)\n",
    "\n",
    "# Create a new CSV file.\n",
    "with open(PATH_TO_OUTPUT_FILE, \"w\") as f:\n",
    "\n",
    "    # Write the first row of data in df to the new CSV file.\n",
    "    df.iloc[[0]].to_csv(f, index=False)\n",
    "\n",
    "    # Iterate through the rows of the dataframe, and calculate the incremental transformations.\n",
    "    for i in range(1, 100):\n",
    "        prev_row = df.iloc[i-1]\n",
    "        curr_row = df.iloc[i]\n",
    "\n",
    "        chain_id = curr_row[\"chain_id\"]\n",
    "\n",
    "        T_start = np.array([[prev_row[\"x\"]], [prev_row[\"y\"]], [prev_row[\"z\"]]])\n",
    "        T_end = np.array([[curr_row[\"x\"]], [curr_row[\"y\"]], [curr_row[\"z\"]]])\n",
    "\n",
    "        R_start = np.array([prev_row[\"qw\"], prev_row[\"qx\"], prev_row[\"qy\"], prev_row[\"qz\"]])\n",
    "        R_end = np.array([curr_row[\"qw\"], curr_row[\"qx\"], curr_row[\"qy\"], curr_row[\"qz\"]])\n",
    "\n",
    "        T_incremental, R_incremental = decompose_transformations(T_start, R_start, T_end, R_end)\n",
    "\n",
    "        # Write the incremental transformations to the new CSV file.\n",
    "        f.write(f\"{chain_id},{i},{T_incremental[0][0]},{T_incremental[1][0]},{T_incremental[2][0]},{R_incremental[0]},{R_incremental[1]},{R_incremental[2]},{R_incremental[3]}\\n\")"
   ]
  },
  {
   "cell_type": "markdown",
   "metadata": {},
   "source": [
    "### (Sanity Check) Conversion Back to Net Transformations"
   ]
  },
  {
   "cell_type": "code",
   "execution_count": 10,
   "metadata": {},
   "outputs": [
    {
     "name": "stderr",
     "output_type": "stream",
     "text": [
      "/Users/yeojunjie/Documents/NUS Modules/CS3263/Project/spacecraft-pose-estimation/example_src/utils.py:6: RuntimeWarning: invalid value encountered in sqrt\n",
      "  q[0] = np.sqrt(1 + matrix[0, 0] + matrix[1, 1] + matrix[2, 2]) / 2\n"
     ]
    }
   ],
   "source": [
    "PATH_TO_SANITY_CHECK_FILE = \"train_labels_sanity_check.csv\"\n",
    "\n",
    "df = pd.read_csv(PATH_TO_OUTPUT_FILE)\n",
    "\n",
    "# Create a new CSV file.\n",
    "with open(PATH_TO_SANITY_CHECK_FILE, \"w\") as f:\n",
    "\n",
    "    # Write the first row of data in df to the new CSV file.\n",
    "    df.iloc[[0]].to_csv(f, index=False)\n",
    "\n",
    "    # Iterate through the rows of the dataframe, and calculate the net transformation.\n",
    "    T_net = np.zeros((3, 1))\n",
    "    R_net = np.array([1, 0, 0, 0])\n",
    "\n",
    "    for i in range(1, 100):\n",
    "        curr_row = df.iloc[i]\n",
    "        chain_id = curr_row[\"chain_id\"]\n",
    "\n",
    "        T_incremental = np.array([[curr_row[\"x\"]], [curr_row[\"y\"]], [curr_row[\"z\"]]])\n",
    "        R_incremental = np.array([curr_row[\"qw\"], curr_row[\"qx\"], curr_row[\"qy\"], curr_row[\"qz\"]])\n",
    "\n",
    "        T_net, R_net = compose_transformations(T_net, R_net, T_incremental, R_incremental)\n",
    "\n",
    "        # Write the net transformations to the new CSV file.\n",
    "        f.write(f\"{chain_id},{i},{T_net[0][0]},{T_net[1][0]},{T_net[2][0]},{R_net[0]},{R_net[1]},{R_net[2]},{R_net[3]}\\n\")"
   ]
  },
  {
   "cell_type": "code",
   "execution_count": null,
   "metadata": {},
   "outputs": [],
   "source": []
  }
 ],
 "metadata": {
  "kernelspec": {
   "display_name": "Python 3",
   "language": "python",
   "name": "python3"
  },
  "language_info": {
   "codemirror_mode": {
    "name": "ipython",
    "version": 3
   },
   "file_extension": ".py",
   "mimetype": "text/x-python",
   "name": "python",
   "nbconvert_exporter": "python",
   "pygments_lexer": "ipython3",
   "version": "3.10.1"
  }
 },
 "nbformat": 4,
 "nbformat_minor": 2
}
