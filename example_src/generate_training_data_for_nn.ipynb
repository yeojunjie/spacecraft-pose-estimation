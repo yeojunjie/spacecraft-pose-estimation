{
 "cells": [
  {
   "cell_type": "markdown",
   "metadata": {},
   "source": [
    "# Generation of Training Data for Neural Network\n",
    "\n",
    "This file generates `nn_X.csv` and `nn_Y.csv`.\n",
    "\n",
    "## Generation of `nn_X.csv`\n",
    "1. Iterate through some folders (image chains) in `data/images` and put them through the ORB/RANSAC pipeline.\n",
    "2. Write the incremental transformations calculated in `nn_X.csv`.\n",
    "3. Read the corresponding values from `data/range.csv` and add them to `nn_X.csv`.\n",
    "\n",
    "## Generation of `nn_Y.csv`\n",
    "1. For each image chain that was processed when generating `nn_X.csv`, calculate the incremental transformations using `data/train_labels.csv`.\n",
    "2. Write the incremental transformations to `nn_Y.csv`."
   ]
  }
 ],
 "metadata": {
  "language_info": {
   "name": "python"
  }
 },
 "nbformat": 4,
 "nbformat_minor": 2
}
